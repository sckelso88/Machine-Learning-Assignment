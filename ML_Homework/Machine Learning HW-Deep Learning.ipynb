{
 "cells": [
  {
   "cell_type": "code",
   "execution_count": 5,
   "metadata": {},
   "outputs": [],
   "source": [
    "# Set the seed value for the notebook so the results are reproducible\n",
    "from numpy.random import seed\n",
    "seed(1)"
   ]
  },
  {
   "cell_type": "markdown",
   "metadata": {},
   "source": [
    "# Data Pre-Processing\n"
   ]
  },
  {
   "cell_type": "code",
   "execution_count": 6,
   "metadata": {},
   "outputs": [],
   "source": [
    "import os\n",
    "import tensorflow as tf\n",
    "from tensorflow.keras.models import Sequential\n",
    "from tensorflow.keras.utils import to_categorical\n",
    "from tensorflow.keras.layers import Dense"
   ]
  },
  {
   "cell_type": "code",
   "execution_count": 7,
   "metadata": {},
   "outputs": [],
   "source": [
    "import numpy as np\n",
    "import pandas as pd"
   ]
  },
  {
   "cell_type": "code",
   "execution_count": 8,
   "metadata": {},
   "outputs": [
    {
     "data": {
      "text/html": [
       "<div>\n",
       "<style scoped>\n",
       "    .dataframe tbody tr th:only-of-type {\n",
       "        vertical-align: middle;\n",
       "    }\n",
       "\n",
       "    .dataframe tbody tr th {\n",
       "        vertical-align: top;\n",
       "    }\n",
       "\n",
       "    .dataframe thead th {\n",
       "        text-align: right;\n",
       "    }\n",
       "</style>\n",
       "<table border=\"1\" class=\"dataframe\">\n",
       "  <thead>\n",
       "    <tr style=\"text-align: right;\">\n",
       "      <th></th>\n",
       "      <th>koi_disposition</th>\n",
       "      <th>koi_fpflag_nt</th>\n",
       "      <th>koi_fpflag_ss</th>\n",
       "      <th>koi_fpflag_co</th>\n",
       "      <th>koi_fpflag_ec</th>\n",
       "      <th>koi_period</th>\n",
       "      <th>koi_period_err1</th>\n",
       "      <th>koi_period_err2</th>\n",
       "      <th>koi_time0bk</th>\n",
       "      <th>koi_time0bk_err1</th>\n",
       "      <th>...</th>\n",
       "      <th>koi_steff_err2</th>\n",
       "      <th>koi_slogg</th>\n",
       "      <th>koi_slogg_err1</th>\n",
       "      <th>koi_slogg_err2</th>\n",
       "      <th>koi_srad</th>\n",
       "      <th>koi_srad_err1</th>\n",
       "      <th>koi_srad_err2</th>\n",
       "      <th>ra</th>\n",
       "      <th>dec</th>\n",
       "      <th>koi_kepmag</th>\n",
       "    </tr>\n",
       "  </thead>\n",
       "  <tbody>\n",
       "    <tr>\n",
       "      <th>0</th>\n",
       "      <td>CONFIRMED</td>\n",
       "      <td>0</td>\n",
       "      <td>0</td>\n",
       "      <td>0</td>\n",
       "      <td>0</td>\n",
       "      <td>9.488036</td>\n",
       "      <td>2.775000e-05</td>\n",
       "      <td>-2.775000e-05</td>\n",
       "      <td>170.538750</td>\n",
       "      <td>0.002160</td>\n",
       "      <td>...</td>\n",
       "      <td>-81.0</td>\n",
       "      <td>4.467</td>\n",
       "      <td>0.064</td>\n",
       "      <td>-0.096</td>\n",
       "      <td>0.927</td>\n",
       "      <td>0.105</td>\n",
       "      <td>-0.061</td>\n",
       "      <td>291.93423</td>\n",
       "      <td>48.141651</td>\n",
       "      <td>15.347</td>\n",
       "    </tr>\n",
       "    <tr>\n",
       "      <th>1</th>\n",
       "      <td>CONFIRMED</td>\n",
       "      <td>0</td>\n",
       "      <td>0</td>\n",
       "      <td>0</td>\n",
       "      <td>0</td>\n",
       "      <td>54.418383</td>\n",
       "      <td>2.479000e-04</td>\n",
       "      <td>-2.479000e-04</td>\n",
       "      <td>162.513840</td>\n",
       "      <td>0.003520</td>\n",
       "      <td>...</td>\n",
       "      <td>-81.0</td>\n",
       "      <td>4.467</td>\n",
       "      <td>0.064</td>\n",
       "      <td>-0.096</td>\n",
       "      <td>0.927</td>\n",
       "      <td>0.105</td>\n",
       "      <td>-0.061</td>\n",
       "      <td>291.93423</td>\n",
       "      <td>48.141651</td>\n",
       "      <td>15.347</td>\n",
       "    </tr>\n",
       "    <tr>\n",
       "      <th>2</th>\n",
       "      <td>FALSE POSITIVE</td>\n",
       "      <td>0</td>\n",
       "      <td>1</td>\n",
       "      <td>0</td>\n",
       "      <td>0</td>\n",
       "      <td>19.899140</td>\n",
       "      <td>1.494000e-05</td>\n",
       "      <td>-1.494000e-05</td>\n",
       "      <td>175.850252</td>\n",
       "      <td>0.000581</td>\n",
       "      <td>...</td>\n",
       "      <td>-176.0</td>\n",
       "      <td>4.544</td>\n",
       "      <td>0.044</td>\n",
       "      <td>-0.176</td>\n",
       "      <td>0.868</td>\n",
       "      <td>0.233</td>\n",
       "      <td>-0.078</td>\n",
       "      <td>297.00482</td>\n",
       "      <td>48.134129</td>\n",
       "      <td>15.436</td>\n",
       "    </tr>\n",
       "    <tr>\n",
       "      <th>3</th>\n",
       "      <td>FALSE POSITIVE</td>\n",
       "      <td>0</td>\n",
       "      <td>1</td>\n",
       "      <td>0</td>\n",
       "      <td>0</td>\n",
       "      <td>1.736952</td>\n",
       "      <td>2.630000e-07</td>\n",
       "      <td>-2.630000e-07</td>\n",
       "      <td>170.307565</td>\n",
       "      <td>0.000115</td>\n",
       "      <td>...</td>\n",
       "      <td>-174.0</td>\n",
       "      <td>4.564</td>\n",
       "      <td>0.053</td>\n",
       "      <td>-0.168</td>\n",
       "      <td>0.791</td>\n",
       "      <td>0.201</td>\n",
       "      <td>-0.067</td>\n",
       "      <td>285.53461</td>\n",
       "      <td>48.285210</td>\n",
       "      <td>15.597</td>\n",
       "    </tr>\n",
       "    <tr>\n",
       "      <th>4</th>\n",
       "      <td>CONFIRMED</td>\n",
       "      <td>0</td>\n",
       "      <td>0</td>\n",
       "      <td>0</td>\n",
       "      <td>0</td>\n",
       "      <td>2.525592</td>\n",
       "      <td>3.761000e-06</td>\n",
       "      <td>-3.761000e-06</td>\n",
       "      <td>171.595550</td>\n",
       "      <td>0.001130</td>\n",
       "      <td>...</td>\n",
       "      <td>-211.0</td>\n",
       "      <td>4.438</td>\n",
       "      <td>0.070</td>\n",
       "      <td>-0.210</td>\n",
       "      <td>1.046</td>\n",
       "      <td>0.334</td>\n",
       "      <td>-0.133</td>\n",
       "      <td>288.75488</td>\n",
       "      <td>48.226200</td>\n",
       "      <td>15.509</td>\n",
       "    </tr>\n",
       "  </tbody>\n",
       "</table>\n",
       "<p>5 rows × 41 columns</p>\n",
       "</div>"
      ],
      "text/plain": [
       "  koi_disposition  koi_fpflag_nt  koi_fpflag_ss  koi_fpflag_co  koi_fpflag_ec  \\\n",
       "0       CONFIRMED              0              0              0              0   \n",
       "1       CONFIRMED              0              0              0              0   \n",
       "2  FALSE POSITIVE              0              1              0              0   \n",
       "3  FALSE POSITIVE              0              1              0              0   \n",
       "4       CONFIRMED              0              0              0              0   \n",
       "\n",
       "   koi_period  koi_period_err1  koi_period_err2  koi_time0bk  \\\n",
       "0    9.488036     2.775000e-05    -2.775000e-05   170.538750   \n",
       "1   54.418383     2.479000e-04    -2.479000e-04   162.513840   \n",
       "2   19.899140     1.494000e-05    -1.494000e-05   175.850252   \n",
       "3    1.736952     2.630000e-07    -2.630000e-07   170.307565   \n",
       "4    2.525592     3.761000e-06    -3.761000e-06   171.595550   \n",
       "\n",
       "   koi_time0bk_err1     ...      koi_steff_err2  koi_slogg  koi_slogg_err1  \\\n",
       "0          0.002160     ...               -81.0      4.467           0.064   \n",
       "1          0.003520     ...               -81.0      4.467           0.064   \n",
       "2          0.000581     ...              -176.0      4.544           0.044   \n",
       "3          0.000115     ...              -174.0      4.564           0.053   \n",
       "4          0.001130     ...              -211.0      4.438           0.070   \n",
       "\n",
       "   koi_slogg_err2  koi_srad  koi_srad_err1  koi_srad_err2         ra  \\\n",
       "0          -0.096     0.927          0.105         -0.061  291.93423   \n",
       "1          -0.096     0.927          0.105         -0.061  291.93423   \n",
       "2          -0.176     0.868          0.233         -0.078  297.00482   \n",
       "3          -0.168     0.791          0.201         -0.067  285.53461   \n",
       "4          -0.210     1.046          0.334         -0.133  288.75488   \n",
       "\n",
       "         dec  koi_kepmag  \n",
       "0  48.141651      15.347  \n",
       "1  48.141651      15.347  \n",
       "2  48.134129      15.436  \n",
       "3  48.285210      15.597  \n",
       "4  48.226200      15.509  \n",
       "\n",
       "[5 rows x 41 columns]"
      ]
     },
     "execution_count": 8,
     "metadata": {},
     "output_type": "execute_result"
    }
   ],
   "source": [
    "df = pd.read_csv(\"cumulative.csv\")\n",
    "df = df.drop(columns=[\"rowid\", \"kepid\", \"kepoi_name\", \"kepler_name\", \"koi_score\",\"koi_pdisposition\", \"koi_tce_delivname\"])\n",
    "# Drop the null columns where all values are null\n",
    "df = df.dropna(axis='columns', how='all')\n",
    "# Drop the null rows\n",
    "df = df.dropna()\n",
    "df.head()"
   ]
  },
  {
   "cell_type": "code",
   "execution_count": 9,
   "metadata": {},
   "outputs": [
    {
     "data": {
      "text/plain": [
       "(8744, 41)"
      ]
     },
     "execution_count": 9,
     "metadata": {},
     "output_type": "execute_result"
    }
   ],
   "source": [
    "df.shape"
   ]
  },
  {
   "cell_type": "code",
   "execution_count": 10,
   "metadata": {},
   "outputs": [
    {
     "data": {
      "text/plain": [
       "0            CONFIRMED\n",
       "1            CONFIRMED\n",
       "2       False_Positive\n",
       "3       False_Positive\n",
       "4            CONFIRMED\n",
       "5            CONFIRMED\n",
       "6            CONFIRMED\n",
       "7            CONFIRMED\n",
       "8       False_Positive\n",
       "9            CONFIRMED\n",
       "10           CONFIRMED\n",
       "11           CONFIRMED\n",
       "12           CONFIRMED\n",
       "13           CONFIRMED\n",
       "14      False_Positive\n",
       "15      False_Positive\n",
       "16      False_Positive\n",
       "17      False_Positive\n",
       "18           CONFIRMED\n",
       "19           CONFIRMED\n",
       "20      False_Positive\n",
       "21           CONFIRMED\n",
       "22           CONFIRMED\n",
       "23           CONFIRMED\n",
       "24      False_Positive\n",
       "25           CONFIRMED\n",
       "26           CONFIRMED\n",
       "27           CONFIRMED\n",
       "28      False_Positive\n",
       "29      False_Positive\n",
       "             ...      \n",
       "9532    False_Positive\n",
       "9533         CANDIDATE\n",
       "9535    False_Positive\n",
       "9536    False_Positive\n",
       "9537    False_Positive\n",
       "9538    False_Positive\n",
       "9539         CANDIDATE\n",
       "9540         CONFIRMED\n",
       "9541    False_Positive\n",
       "9542         CANDIDATE\n",
       "9543    False_Positive\n",
       "9544         CANDIDATE\n",
       "9545    False_Positive\n",
       "9546         CANDIDATE\n",
       "9548    False_Positive\n",
       "9549    False_Positive\n",
       "9550         CANDIDATE\n",
       "9551         CANDIDATE\n",
       "9552    False_Positive\n",
       "9553    False_Positive\n",
       "9554    False_Positive\n",
       "9555    False_Positive\n",
       "9556    False_Positive\n",
       "9557         CANDIDATE\n",
       "9558         CANDIDATE\n",
       "9559    False_Positive\n",
       "9560    False_Positive\n",
       "9561         CANDIDATE\n",
       "9562    False_Positive\n",
       "9563    False_Positive\n",
       "Name: koi_disposition, Length: 8744, dtype: object"
      ]
     },
     "execution_count": 10,
     "metadata": {},
     "output_type": "execute_result"
    }
   ],
   "source": [
    "mask = df[\"koi_disposition\"]==\"FALSE POSITIVE\"\n",
    "df.loc[mask, \"koi_disposition\"]=\"False_Positive\"\n",
    "df[\"koi_disposition\"]"
   ]
  },
  {
   "cell_type": "code",
   "execution_count": 11,
   "metadata": {},
   "outputs": [
    {
     "data": {
      "text/plain": [
       "(8744, 41)"
      ]
     },
     "execution_count": 11,
     "metadata": {},
     "output_type": "execute_result"
    }
   ],
   "source": [
    "df.shape"
   ]
  },
  {
   "cell_type": "code",
   "execution_count": 12,
   "metadata": {},
   "outputs": [],
   "source": [
    "# Create Train Test Split\n",
    "from sklearn.model_selection import train_test_split\n",
    "y = df[\"koi_disposition\"]\n",
    "X = df.drop(columns=[\"koi_disposition\"])\n",
    "X_train, X_test, y_train, y_test = train_test_split(X, y, random_state=1, stratify=y)"
   ]
  },
  {
   "cell_type": "code",
   "execution_count": 13,
   "metadata": {},
   "outputs": [
    {
     "name": "stderr",
     "output_type": "stream",
     "text": [
      "/anaconda3/envs/PythonData/lib/python3.6/site-packages/sklearn/preprocessing/data.py:323: DataConversionWarning: Data with input dtype int64, float64 were all converted to float64 by MinMaxScaler.\n",
      "  return self.partial_fit(X, y)\n"
     ]
    }
   ],
   "source": [
    "from sklearn.preprocessing import LabelEncoder, MinMaxScaler\n",
    "X_scaler = MinMaxScaler().fit(X_train)\n",
    "\n",
    "X_train_selected = X_scaler.transform(X_train)\n",
    "X_test_selected = X_scaler.transform(X_test)"
   ]
  },
  {
   "cell_type": "code",
   "execution_count": 23,
   "metadata": {},
   "outputs": [],
   "source": [
    "label_encoder = LabelEncoder()\n",
    "label_encoder.fit(y_train)\n",
    "encoded_y_train = label_encoder.transform(y_train)\n",
    "encoded_y_test = label_encoder.transform(y_test)\n",
    "\n",
    "y_train_categorical = to_categorical(encoded_y_train)\n",
    "y_test_categorical = to_categorical(encoded_y_test)"
   ]
  },
  {
   "cell_type": "code",
   "execution_count": 24,
   "metadata": {},
   "outputs": [
    {
     "data": {
      "text/plain": [
       "(6558, 3)"
      ]
     },
     "execution_count": 24,
     "metadata": {},
     "output_type": "execute_result"
    }
   ],
   "source": [
    "y_train_categorical.shape"
   ]
  },
  {
   "cell_type": "markdown",
   "metadata": {},
   "source": [
    "# Create and Train DL Model using Keras"
   ]
  },
  {
   "cell_type": "code",
   "execution_count": 25,
   "metadata": {},
   "outputs": [],
   "source": [
    "# Create an empty sequential model\n",
    "model = Sequential()"
   ]
  },
  {
   "cell_type": "code",
   "execution_count": 31,
   "metadata": {},
   "outputs": [],
   "source": [
    "# Add the first layer where the input dimensions are the 561 columns of the training data\n",
    "model.add(Dense(units=30, activation='relu', input_dim=40))"
   ]
  },
  {
   "cell_type": "code",
   "execution_count": 32,
   "metadata": {},
   "outputs": [],
   "source": [
    "# Add a second hidden layer\n",
    "model.add(Dense(units=100, activation='relu'))\n",
    "# Add output layer\n",
    "model.add(Dense(units=3, activation='softmax'))"
   ]
  },
  {
   "cell_type": "code",
   "execution_count": 33,
   "metadata": {},
   "outputs": [],
   "source": [
    "# Compile the model using categorical_crossentropy for the loss function, the adam optimizer,\n",
    "# and add accuracy to the training metrics\n",
    "model.compile(loss=\"categorical_crossentropy\",\n",
    "              optimizer=\"adam\", metrics=['accuracy'])"
   ]
  },
  {
   "cell_type": "code",
   "execution_count": 35,
   "metadata": {},
   "outputs": [
    {
     "name": "stdout",
     "output_type": "stream",
     "text": [
      "Epoch 1/60\n",
      " - 2s - loss: 0.3987 - acc: 0.7658\n",
      "Epoch 2/60\n",
      " - 2s - loss: 0.3930 - acc: 0.7807\n",
      "Epoch 3/60\n",
      " - 2s - loss: 0.3737 - acc: 0.8009\n",
      "Epoch 4/60\n",
      " - 2s - loss: 0.3654 - acc: 0.8103\n",
      "Epoch 5/60\n",
      " - 2s - loss: 0.3617 - acc: 0.8167\n",
      "Epoch 6/60\n",
      " - 2s - loss: 0.3532 - acc: 0.8216\n",
      "Epoch 7/60\n",
      " - 2s - loss: 0.3544 - acc: 0.8243\n",
      "Epoch 8/60\n",
      " - 2s - loss: 0.3478 - acc: 0.8265\n",
      "Epoch 9/60\n",
      " - 2s - loss: 0.3455 - acc: 0.8300\n",
      "Epoch 10/60\n",
      " - 2s - loss: 0.3396 - acc: 0.8350\n",
      "Epoch 11/60\n",
      " - 2s - loss: 0.3319 - acc: 0.8481\n",
      "Epoch 12/60\n",
      " - 2s - loss: 0.3237 - acc: 0.8503\n",
      "Epoch 13/60\n",
      " - 2s - loss: 0.3292 - acc: 0.8484\n",
      "Epoch 14/60\n",
      " - 2s - loss: 0.3181 - acc: 0.8564\n",
      "Epoch 15/60\n",
      " - 2s - loss: 0.3156 - acc: 0.8570\n",
      "Epoch 16/60\n",
      " - 2s - loss: 0.3059 - acc: 0.8658\n",
      "Epoch 17/60\n",
      " - 2s - loss: 0.3025 - acc: 0.8678\n",
      "Epoch 18/60\n",
      " - 2s - loss: 0.3066 - acc: 0.8611\n",
      "Epoch 19/60\n",
      " - 2s - loss: 0.2975 - acc: 0.8716\n",
      "Epoch 20/60\n",
      " - 2s - loss: 0.2914 - acc: 0.8734\n",
      "Epoch 21/60\n",
      " - 2s - loss: 0.2910 - acc: 0.8742\n",
      "Epoch 22/60\n",
      " - 2s - loss: 0.2899 - acc: 0.8786\n",
      "Epoch 23/60\n",
      " - 2s - loss: 0.2853 - acc: 0.8783\n",
      "Epoch 24/60\n",
      " - 2s - loss: 0.2857 - acc: 0.8797\n",
      "Epoch 25/60\n",
      " - 2s - loss: 0.2960 - acc: 0.8728\n",
      "Epoch 26/60\n",
      " - 2s - loss: 0.2879 - acc: 0.8748\n",
      "Epoch 27/60\n",
      " - 2s - loss: 0.2864 - acc: 0.8780\n",
      "Epoch 28/60\n",
      " - 2s - loss: 0.2825 - acc: 0.8808\n",
      "Epoch 29/60\n",
      " - 2s - loss: 0.2816 - acc: 0.8806\n",
      "Epoch 30/60\n",
      " - 2s - loss: 0.2803 - acc: 0.8817\n",
      "Epoch 31/60\n",
      " - 2s - loss: 0.2827 - acc: 0.8760\n",
      "Epoch 32/60\n",
      " - 2s - loss: 0.2815 - acc: 0.8826\n",
      "Epoch 33/60\n",
      " - 2s - loss: 0.2773 - acc: 0.8798\n",
      "Epoch 34/60\n",
      " - 2s - loss: 0.2836 - acc: 0.8785\n",
      "Epoch 35/60\n",
      " - 2s - loss: 0.2738 - acc: 0.8870\n",
      "Epoch 36/60\n",
      " - 2s - loss: 0.2747 - acc: 0.8852\n",
      "Epoch 37/60\n",
      " - 2s - loss: 0.2751 - acc: 0.8872\n",
      "Epoch 38/60\n",
      " - 2s - loss: 0.2744 - acc: 0.8856\n",
      "Epoch 39/60\n",
      " - 2s - loss: 0.2723 - acc: 0.8867\n",
      "Epoch 40/60\n",
      " - 2s - loss: 0.2735 - acc: 0.8856\n",
      "Epoch 41/60\n",
      " - 2s - loss: 0.2806 - acc: 0.8811\n",
      "Epoch 42/60\n",
      " - 2s - loss: 0.2687 - acc: 0.8867\n",
      "Epoch 43/60\n",
      " - 2s - loss: 0.2765 - acc: 0.8823\n",
      "Epoch 44/60\n",
      " - 2s - loss: 0.2640 - acc: 0.8899\n",
      "Epoch 45/60\n",
      " - 2s - loss: 0.2702 - acc: 0.8826\n",
      "Epoch 46/60\n",
      " - 2s - loss: 0.2654 - acc: 0.8878\n",
      "Epoch 47/60\n",
      " - 2s - loss: 0.2661 - acc: 0.8882\n",
      "Epoch 48/60\n",
      " - 2s - loss: 0.2639 - acc: 0.8887\n",
      "Epoch 49/60\n",
      " - 2s - loss: 0.2629 - acc: 0.8890\n",
      "Epoch 50/60\n",
      " - 2s - loss: 0.2625 - acc: 0.8919\n",
      "Epoch 51/60\n",
      " - 2s - loss: 0.2615 - acc: 0.8873\n",
      "Epoch 52/60\n",
      " - 2s - loss: 0.2634 - acc: 0.8867\n",
      "Epoch 53/60\n",
      " - 2s - loss: 0.2628 - acc: 0.8873\n",
      "Epoch 54/60\n",
      " - 2s - loss: 0.2593 - acc: 0.8907\n",
      "Epoch 55/60\n",
      " - 2s - loss: 0.2603 - acc: 0.8879\n",
      "Epoch 56/60\n",
      " - 2s - loss: 0.2539 - acc: 0.8916\n",
      "Epoch 57/60\n",
      " - 2s - loss: 0.2611 - acc: 0.8904\n",
      "Epoch 58/60\n",
      " - 2s - loss: 0.2598 - acc: 0.8898\n",
      "Epoch 59/60\n",
      " - 2s - loss: 0.2504 - acc: 0.8927\n",
      "Epoch 60/60\n",
      " - 2s - loss: 0.2514 - acc: 0.8948\n"
     ]
    },
    {
     "data": {
      "text/plain": [
       "<tensorflow.python.keras.callbacks.History at 0x1a43880588>"
      ]
     },
     "execution_count": 35,
     "metadata": {},
     "output_type": "execute_result"
    }
   ],
   "source": [
    "# Use the training data to fit (train) the model\n",
    "model.fit(\n",
    "    X_train_selected,\n",
    "    y_train_categorical,\n",
    "    epochs=60,\n",
    "    shuffle=True,\n",
    "    verbose=2\n",
    ")"
   ]
  },
  {
   "cell_type": "markdown",
   "metadata": {},
   "source": [
    "# Save the Trained Model"
   ]
  },
  {
   "cell_type": "code",
   "execution_count": 36,
   "metadata": {},
   "outputs": [],
   "source": [
    "# Save the model\n",
    "model.save(\"kepler_trained.h5\")"
   ]
  },
  {
   "cell_type": "markdown",
   "metadata": {},
   "source": [
    "# Evaluate the Model"
   ]
  },
  {
   "cell_type": "code",
   "execution_count": 37,
   "metadata": {},
   "outputs": [],
   "source": [
    "# Load the model\n",
    "from tensorflow.keras.models import load_model\n",
    "model = load_model(\"kepler_trained.h5\")"
   ]
  },
  {
   "cell_type": "code",
   "execution_count": 38,
   "metadata": {},
   "outputs": [
    {
     "name": "stdout",
     "output_type": "stream",
     "text": [
      " - 1s - loss: 0.2824 - acc: 0.8783\n",
      "Loss: 0.28236591123378507, Accuracy: 0.8783165812492371\n"
     ]
    }
   ],
   "source": [
    "# Evaluate the model using the training data\n",
    "model_loss, model_accuracy = model.evaluate(X_test_selected, y_test_categorical, verbose=2)\n",
    "print(f\"Loss: {model_loss}, Accuracy: {model_accuracy}\")"
   ]
  },
  {
   "cell_type": "code",
   "execution_count": 39,
   "metadata": {},
   "outputs": [
    {
     "data": {
      "text/plain": [
       "(1, 40)"
      ]
     },
     "execution_count": 39,
     "metadata": {},
     "output_type": "execute_result"
    }
   ],
   "source": [
    "# Grab just one data point to test with\n",
    "test = np.expand_dims(X_test_selected[0], axis=0)\n",
    "test.shape"
   ]
  },
  {
   "cell_type": "code",
   "execution_count": 40,
   "metadata": {},
   "outputs": [
    {
     "name": "stdout",
     "output_type": "stream",
     "text": [
      "Predicted class: [2]\n"
     ]
    }
   ],
   "source": [
    "# Make a prediction. The result should be 5 - STANDING\n",
    "print(f\"Predicted class: {model.predict_classes(test)}\")"
   ]
  },
  {
   "cell_type": "code",
   "execution_count": 42,
   "metadata": {},
   "outputs": [],
   "source": [
    "encoded_predictions = model.predict_classes(X_test_selected[:5])\n",
    "prediction_labels = label_encoder.inverse_transform(encoded_predictions)"
   ]
  },
  {
   "cell_type": "code",
   "execution_count": 44,
   "metadata": {},
   "outputs": [
    {
     "name": "stdout",
     "output_type": "stream",
     "text": [
      "Predicted Classes: ['False_Positive' 'CONFIRMED' 'CONFIRMED' 'CANDIDATE' 'CONFIRMED']\n",
      "Actual Labels: ['False_Positive', 'CANDIDATE', 'CONFIRMED', 'CANDIDATE', 'CANDIDATE']\n"
     ]
    }
   ],
   "source": [
    "print(f\"Predicted Classes: {prediction_labels}\")\n",
    "print(f\"Actual Labels: {list(y_test[:5])}\")"
   ]
  }
 ],
 "metadata": {
  "anaconda-cloud": {},
  "kernelspec": {
   "display_name": "Python [conda env:pythondata]",
   "language": "python",
   "name": "conda-env-pythondata-py"
  },
  "language_info": {
   "codemirror_mode": {
    "name": "ipython",
    "version": 3
   },
   "file_extension": ".py",
   "mimetype": "text/x-python",
   "name": "python",
   "nbconvert_exporter": "python",
   "pygments_lexer": "ipython3",
   "version": "3.6.7"
  },
  "varInspector": {
   "cols": {
    "lenName": 16,
    "lenType": 16,
    "lenVar": 40
   },
   "kernels_config": {
    "python": {
     "delete_cmd_postfix": "",
     "delete_cmd_prefix": "del ",
     "library": "var_list.py",
     "varRefreshCmd": "print(var_dic_list())"
    },
    "r": {
     "delete_cmd_postfix": ") ",
     "delete_cmd_prefix": "rm(",
     "library": "var_list.r",
     "varRefreshCmd": "cat(var_dic_list()) "
    }
   },
   "types_to_exclude": [
    "module",
    "function",
    "builtin_function_or_method",
    "instance",
    "_Feature"
   ],
   "window_display": false
  }
 },
 "nbformat": 4,
 "nbformat_minor": 2
}
